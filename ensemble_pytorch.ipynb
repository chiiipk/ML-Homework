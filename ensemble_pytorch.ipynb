{
  "nbformat": 4,
  "nbformat_minor": 0,
  "metadata": {
    "accelerator": "GPU",
    "colab": {
      "provenance": []
    },
    "kernelspec": {
      "display_name": "Python 3",
      "name": "python3"
    }
  },
  "cells": [
    {
      "cell_type": "markdown",
      "source": [
        "# BTVN: Training Neural Networks (Tiếp)\n",
        "Trong phần này các bạn sẽ làm quen với kỹ thuật model ensemble để tăng độ chính xác khi suy diễn"
      ],
      "metadata": {
        "id": "CspDnsdcmRze"
      }
    },
    {
      "cell_type": "code",
      "execution_count": null,
      "source": [
        "!nvidia-smi\n",
        "from google.colab import drive\n",
        "drive.mount('/content/drive')\n",
        "\n",
        "import torch\n",
        "import torch.nn as nn\n",
        "import torch.optim as optim\n",
        "import numpy as np\n",
        "import glob\n",
        "import cv2\n",
        "import torch.nn.functional as F\n",
        "from torch.autograd import Variable\n",
        "import os\n",
        "\n",
        "import torchvision\n",
        "import torchvision.transforms as transforms\n",
        "\n",
        "from torch.nn import CrossEntropyLoss, Dropout, Softmax, Linear, Conv2d, LayerNorm\n",
        "import matplotlib.pyplot as plt\n",
        "from torchsummary import summary"
      ],
      "outputs": [
        {
          "output_type": "stream",
          "name": "stdout",
          "text": [
            "Sun Sep 22 03:39:52 2024       \n",
            "+---------------------------------------------------------------------------------------+\n",
            "| NVIDIA-SMI 535.104.05             Driver Version: 535.104.05   CUDA Version: 12.2     |\n",
            "|-----------------------------------------+----------------------+----------------------+\n",
            "| GPU  Name                 Persistence-M | Bus-Id        Disp.A | Volatile Uncorr. ECC |\n",
            "| Fan  Temp   Perf          Pwr:Usage/Cap |         Memory-Usage | GPU-Util  Compute M. |\n",
            "|                                         |                      |               MIG M. |\n",
            "|=========================================+======================+======================|\n",
            "|   0  Tesla T4                       Off | 00000000:00:04.0 Off |                    0 |\n",
            "| N/A   44C    P8              10W /  70W |      0MiB / 15360MiB |      0%      Default |\n",
            "|                                         |                      |                  N/A |\n",
            "+-----------------------------------------+----------------------+----------------------+\n",
            "                                                                                         \n",
            "+---------------------------------------------------------------------------------------+\n",
            "| Processes:                                                                            |\n",
            "|  GPU   GI   CI        PID   Type   Process name                            GPU Memory |\n",
            "|        ID   ID                                                             Usage      |\n",
            "|=======================================================================================|\n",
            "|  No running processes found                                                           |\n",
            "+---------------------------------------------------------------------------------------+\n",
            "Mounted at /content/drive\n"
          ]
        }
      ],
      "metadata": {
        "colab": {
          "base_uri": "https://localhost:8080/"
        },
        "id": "dALhhAr_5agu",
        "outputId": "7bb6866a-83d9-4f33-e24e-a5531952c24d"
      }
    },
    {
      "cell_type": "markdown",
      "source": [
        "Tải dữ liệu và cài đặt một kiến trúc mạng nơ-ron đơn giản theo mô tả phía dưới"
      ],
      "metadata": {
        "id": "1_jDYArKvZ-Z"
      }
    },
    {
      "cell_type": "code",
      "execution_count": null,
      "source": [
        "def load_data(data_dir=\"./data\"):\n",
        "    transform = transforms.Compose([\n",
        "        transforms.ToTensor(),\n",
        "        transforms.Normalize((0.5, 0.5, 0.5), (0.5, 0.5, 0.5))\n",
        "    ])\n",
        "\n",
        "    trainset = torchvision.datasets.CIFAR10(\n",
        "        root=data_dir, train=True, download=True, transform=transform)\n",
        "\n",
        "    testset = torchvision.datasets.CIFAR10(\n",
        "        root=data_dir, train=False, download=True, transform=transform)\n",
        "\n",
        "    return trainset, testset\n",
        "\n",
        "\n",
        "class Net(nn.Module):\n",
        "    def __init__(self, l1=64, l2=32):\n",
        "        super(Net, self).__init__()\n",
        "        self.con2d1 = nn.Conv2d(3, 6, 5) #anh xam: 1 channel, dau ra: 6 channels\n",
        "        self.pool = nn.MaxPool2d(2, 2) #giam kich thuoc xuong con 14, 14\n",
        "        self.con2d3 = nn.Conv2d(6, 16, 5)\n",
        "        self.pool2 = nn.MaxPool2d(2, 2)\n",
        "        self.fc1 = nn.Linear(16 * 5 * 5, 120)\n",
        "        self.fc2 = nn.Linear(120, 84)\n",
        "        self.fc3 = nn.Linear(84, 10)\n",
        "    def forward(self, x):\n",
        "        x = self.pool(F.relu(self.con2d1(x)))\n",
        "        x = self.pool2(F.relu(self.con2d3(x)))\n",
        "        x = x.view(-1, 16 * 5 * 5)\n",
        "        x = F.relu(self.fc1(x))\n",
        "        x = F.relu(self.fc2(x))\n",
        "        x = self.fc3(x)\n",
        "        return x\n",
        "\n",
        "\n",
        "model = Net()\n",
        "if torch.cuda.is_available():\n",
        "    model.cuda()\n",
        "summary(model, (3, 32, 32))"
      ],
      "outputs": [
        {
          "output_type": "stream",
          "name": "stdout",
          "text": [
            "----------------------------------------------------------------\n",
            "        Layer (type)               Output Shape         Param #\n",
            "================================================================\n",
            "            Conv2d-1            [-1, 6, 28, 28]             456\n",
            "         MaxPool2d-2            [-1, 6, 14, 14]               0\n",
            "            Conv2d-3           [-1, 16, 10, 10]           2,416\n",
            "         MaxPool2d-4             [-1, 16, 5, 5]               0\n",
            "            Linear-5                  [-1, 120]          48,120\n",
            "            Linear-6                   [-1, 84]          10,164\n",
            "            Linear-7                   [-1, 10]             850\n",
            "================================================================\n",
            "Total params: 62,006\n",
            "Trainable params: 62,006\n",
            "Non-trainable params: 0\n",
            "----------------------------------------------------------------\n",
            "Input size (MB): 0.01\n",
            "Forward/backward pass size (MB): 0.06\n",
            "Params size (MB): 0.24\n",
            "Estimated Total Size (MB): 0.31\n",
            "----------------------------------------------------------------\n"
          ]
        }
      ],
      "metadata": {
        "id": "ptNpnOaYCuK6",
        "colab": {
          "base_uri": "https://localhost:8080/"
        },
        "outputId": "86c65968-7a67-45d3-8b98-1157634fd955"
      }
    },
    {
      "cell_type": "markdown",
      "source": [
        "Hàm đánh giá độ chính xác trên tập test"
      ],
      "metadata": {
        "id": "18jW8f-xvuvz"
      }
    },
    {
      "cell_type": "code",
      "execution_count": null,
      "source": [
        "def test_accuracy(net, device=\"cpu\"):\n",
        "    correct = 0\n",
        "    total = 0\n",
        "    with torch.no_grad():\n",
        "        for data in testloader:\n",
        "            images, labels = data\n",
        "            images, labels = images.to(device), labels.to(device)\n",
        "            outputs = net(images)\n",
        "            _, predicted = torch.max(outputs.data, 1)\n",
        "            total += labels.size(0)\n",
        "            correct += (predicted == labels).sum().item()\n",
        "\n",
        "    return correct / total"
      ],
      "outputs": [],
      "metadata": {
        "id": "GV63_UK5SqbP"
      }
    },
    {
      "cell_type": "markdown",
      "source": [
        "Hàm huấn luyện mô hình"
      ],
      "metadata": {
        "id": "xqjzvoo3vuv0"
      }
    },
    {
      "cell_type": "code",
      "execution_count": null,
      "source": [
        "def train(net, criterion, optimizer, save_path, device=\"cpu\"):\n",
        "    T_cur = 0\n",
        "    for epoch in range(1, epochs+1):  # loop over the dataset multiple times\n",
        "        running_loss = 0.0\n",
        "        epoch_steps = 0\n",
        "        T_cur += 1\n",
        "\n",
        "\n",
        "        # warm-up\n",
        "        if epoch <= warm_epoch:\n",
        "            optimizer.param_groups[0]['lr'] = (1.0 * epoch) / warm_epoch  * init_lr\n",
        "        else:\n",
        "            # cosine annealing lr\n",
        "            optimizer.param_groups[0]['lr'] = last_lr + (init_lr - last_lr) * (1 + np.cos(T_cur * np.pi / T_max)) / 2\n",
        "\n",
        "        for i, data in enumerate(trainloader, 0):\n",
        "            # get the inputs; data is a list of [inputs, labels]\n",
        "            inputs, labels = data\n",
        "            inputs, labels = inputs.to(device), labels.to(device)\n",
        "            # zero the parameter gradients\n",
        "            optimizer.zero_grad()\n",
        "\n",
        "\n",
        "            # forward + backward + optimize\n",
        "            outputs = net(inputs)\n",
        "            loss = criterion(outputs, labels)\n",
        "            loss.backward()\n",
        "            optimizer.step()\n",
        "\n",
        "            # print statistics\n",
        "            running_loss += loss.item()\n",
        "            epoch_steps += 1\n",
        "            if i + 1 == len(trainloader):\n",
        "                print(\"[Epoch %d] loss: %.3f\" % (epoch, running_loss / epoch_steps))\n",
        "                running_loss = 0.0\n",
        "\n",
        "\n",
        "    print(\"Finished Training\")\n",
        "    print(\"Test accuracy:\", test_accuracy(net, device))\n",
        "    torch.save(net.state_dict(), save_path)"
      ],
      "outputs": [],
      "metadata": {
        "id": "Bk1YvtHgOKqk"
      }
    },
    {
      "cell_type": "markdown",
      "source": [
        "Thiết lập các tham số và hai kiến trúc mạng khác nhau"
      ],
      "metadata": {
        "id": "OkRrmpdYvuv1"
      }
    },
    {
      "cell_type": "code",
      "execution_count": null,
      "source": [
        "epochs = 10\n",
        "warm_epoch = 5\n",
        "init_lr = 1e-2\n",
        "last_lr = 1e-4\n",
        "T_max = epochs\n",
        "\n",
        "configs = [{'l1': 64, 'l2': 32}, {'l1': 128, 'l2': 64}]\n",
        "\n",
        "trainset, testset = load_data('./data')\n",
        "trainloader = torch.utils.data.DataLoader(\n",
        "    trainset,\n",
        "    batch_size=128,\n",
        "    shuffle=True,\n",
        ")\n",
        "testloader = torch.utils.data.DataLoader(\n",
        "    testset, batch_size=4, shuffle=False, num_workers=2)"
      ],
      "outputs": [
        {
          "output_type": "stream",
          "name": "stdout",
          "text": [
            "Files already downloaded and verified\n",
            "Files already downloaded and verified\n"
          ]
        }
      ],
      "metadata": {
        "id": "mS4soUx9iwvh",
        "colab": {
          "base_uri": "https://localhost:8080/"
        },
        "outputId": "cf160829-710c-471b-8cb8-c01e98d12af8"
      }
    },
    {
      "cell_type": "markdown",
      "source": [
        "Huấn luyện hai mạng mô tả trong configs"
      ],
      "metadata": {
        "id": "w76fu7QPvuv3"
      }
    },
    {
      "cell_type": "code",
      "source": [
        "\n",
        "device = torch.device(\"cuda\" if torch.cuda.is_available() else \"cpu\")\n",
        "\n",
        "for i, config in enumerate(configs):\n",
        "    model = Net(**config).to(device)\n",
        "    criterion = nn.CrossEntropyLoss()\n",
        "    optimizer = optim.SGD(model.parameters(), lr=init_lr, momentum=0.9)\n",
        "\n",
        "    train(model, criterion, optimizer, f'/content/drive/MyDrive/model_{i}.pth', device)\n"
      ],
      "metadata": {
        "colab": {
          "base_uri": "https://localhost:8080/"
        },
        "id": "i5EeRwbG9yzw",
        "outputId": "60cabdac-26b9-49d8-b085-2f932c0a8b7e"
      },
      "execution_count": null,
      "outputs": [
        {
          "output_type": "stream",
          "name": "stdout",
          "text": [
            "[Epoch 1] loss: 2.295\n",
            "[Epoch 2] loss: 2.091\n",
            "[Epoch 3] loss: 1.705\n",
            "[Epoch 4] loss: 1.490\n",
            "[Epoch 5] loss: 1.385\n",
            "[Epoch 6] loss: 1.228\n",
            "[Epoch 7] loss: 1.173\n",
            "[Epoch 8] loss: 1.130\n",
            "[Epoch 9] loss: 1.105\n",
            "[Epoch 10] loss: 1.097\n",
            "Finished Training\n",
            "Test accuracy: 0.5801\n",
            "[Epoch 1] loss: 2.300\n",
            "[Epoch 2] loss: 2.125\n",
            "[Epoch 3] loss: 1.716\n",
            "[Epoch 4] loss: 1.486\n",
            "[Epoch 5] loss: 1.359\n",
            "[Epoch 6] loss: 1.211\n",
            "[Epoch 7] loss: 1.152\n",
            "[Epoch 8] loss: 1.113\n",
            "[Epoch 9] loss: 1.090\n",
            "[Epoch 10] loss: 1.082\n",
            "Finished Training\n",
            "Test accuracy: 0.5944\n"
          ]
        }
      ]
    },
    {
      "cell_type": "markdown",
      "source": [
        "Kết hợp kết quả hai mạng (ensemble)"
      ],
      "metadata": {
        "id": "KHsXdm1Rvuv4"
      }
    },
    {
      "cell_type": "code",
      "execution_count": null,
      "source": [
        "from tqdm import tqdm\n",
        "\n",
        "def test_ensemble(device=\"cuda:0\"):\n",
        "    correct = 0\n",
        "    total = 0\n",
        "    with torch.no_grad():\n",
        "        for data in tqdm(testloader):\n",
        "            images, labels = data\n",
        "            images, labels = images.to(device), labels.to(device)\n",
        "            final_outputs = torch.zeros((4, 10)).to(device)\n",
        "            for i, cfg in enumerate(configs):\n",
        "                net = Net(cfg['l1'], cfg['l2'])\n",
        "                net.to(device)\n",
        "                net.load_state_dict(torch.load(f'/content/drive/MyDrive/model_{i}.pth'))\n",
        "                outputs = net(images)\n",
        "                final_outputs = final_outputs.add(outputs)\n",
        "\n",
        "            final_outputs.div(len(configs))\n",
        "            _, predicted = torch.max(final_outputs.data, 1)\n",
        "            total += labels.size(0)\n",
        "            correct += (predicted == labels).sum().item()\n",
        "\n",
        "    return correct / total"
      ],
      "outputs": [],
      "metadata": {
        "id": "_W4q6zccShD5"
      }
    },
    {
      "cell_type": "code",
      "execution_count": null,
      "source": [
        "from tqdm import tqdm\n",
        "\n",
        "def test_ensemble(device=\"cuda:0\"):\n",
        "    correct = 0\n",
        "    total = 0\n",
        "    with torch.no_grad():\n",
        "        for data in tqdm(testloader):\n",
        "            images, labels = data\n",
        "            images, labels = images.to(device), labels.to(device)\n",
        "            final_outputs = torch.zeros((4, 10)).to(device)\n",
        "            for i, cfg in enumerate(configs):\n",
        "                net = Net(cfg['l1'], cfg['l2'])\n",
        "                net.to(device)\n",
        "                net.load_state_dict(torch.load(f'/content/drive/MyDrive/model_{i}.pth'))\n",
        "                outputs = net(images)\n",
        "                final_outputs = final_outputs.add(outputs)\n",
        "\n",
        "            final_outputs.div(len(configs))\n",
        "            _, predicted = torch.max(final_outputs.data, 1)\n",
        "            total += labels.size(0)\n",
        "            correct += (predicted == labels).sum().item()\n",
        "\n",
        "    return correct / total"
      ],
      "outputs": [],
      "metadata": {
        "id": "2CoKk-0cvuv4"
      }
    },
    {
      "cell_type": "code",
      "execution_count": null,
      "source": [
        "test_ensemble()"
      ],
      "outputs": [
        {
          "output_type": "stream",
          "name": "stderr",
          "text": [
            "  0%|          | 0/2500 [00:00<?, ?it/s]<ipython-input-45-4f4a1c7cd665>:14: FutureWarning: You are using `torch.load` with `weights_only=False` (the current default value), which uses the default pickle module implicitly. It is possible to construct malicious pickle data which will execute arbitrary code during unpickling (See https://github.com/pytorch/pytorch/blob/main/SECURITY.md#untrusted-models for more details). In a future release, the default value for `weights_only` will be flipped to `True`. This limits the functions that could be executed during unpickling. Arbitrary objects will no longer be allowed to be loaded via this mode unless they are explicitly allowlisted by the user via `torch.serialization.add_safe_globals`. We recommend you start setting `weights_only=True` for any use case where you don't have full control of the loaded file. Please open an issue on GitHub for any issues related to this experimental feature.\n",
            "  net.load_state_dict(torch.load(f'/content/drive/MyDrive/model_{i}.pth'))\n",
            "100%|██████████| 2500/2500 [00:45<00:00, 55.39it/s]\n"
          ]
        },
        {
          "output_type": "execute_result",
          "data": {
            "text/plain": [
              "0.6089"
            ]
          },
          "metadata": {},
          "execution_count": 46
        }
      ],
      "metadata": {
        "colab": {
          "base_uri": "https://localhost:8080/"
        },
        "id": "S-zwy7Uxcmmh",
        "outputId": "cd79f23c-0d1a-408a-8ef3-bf0d5a806b8b"
      }
    },
    {
      "cell_type": "code",
      "execution_count": null,
      "source": [],
      "outputs": [],
      "metadata": {
        "id": "7RsZiih2dQS2"
      }
    }
  ]
}